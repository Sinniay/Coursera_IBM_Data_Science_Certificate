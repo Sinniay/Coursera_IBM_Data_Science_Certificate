{
 "cells": [
  {
   "cell_type": "markdown",
   "id": "0eacfcce-ad13-4941-b529-18a1182191fe",
   "metadata": {},
   "source": [
    "# Data Science Tools and Ecosystem"
   ]
  },
  {
   "cell_type": "markdown",
   "id": "3bee1a0c-6837-4eb6-9418-bd3683ace751",
   "metadata": {},
   "source": [
    "## In this notebook, Data Science Tools and Ecosystem are summarized."
   ]
  },
  {
   "cell_type": "markdown",
   "id": "47560309-5f4a-41a7-b5cc-8144b7641cbb",
   "metadata": {},
   "source": [
    "## **Objectives:**"
   ]
  },
  {
   "cell_type": "markdown",
   "id": "b666beb4-c39d-43ad-886b-bef2c3f2c284",
   "metadata": {},
   "source": [
    "* List popular languages for Data Science\n",
    "* List commonly used libraries used in Data Science\n",
    "* Create a table of Data Science Tools\n",
    "* Evaluation of arithmetic experssions in Python"
   ]
  },
  {
   "cell_type": "markdown",
   "id": "c9d9f116-89eb-4460-9073-c1d13b8de069",
   "metadata": {},
   "source": [
    "### Some of the popular languages that Data Scientists use are:"
   ]
  },
  {
   "cell_type": "markdown",
   "id": "bcc11759-92f3-4efc-ac88-4e5e2a76a085",
   "metadata": {},
   "source": [
    "1. Python\n",
    "2. R\n",
    "3. SQL"
   ]
  },
  {
   "cell_type": "markdown",
   "id": "c6a13240-dafa-4a63-b603-1cb05d6bfb5d",
   "metadata": {},
   "source": [
    "### Some of the commonly used libraries used by Data Scientists include:"
   ]
  },
  {
   "cell_type": "markdown",
   "id": "7109bf6c-c544-4b59-9977-8b3f5d78b88c",
   "metadata": {},
   "source": [
    "1. Pandas\n",
    "2. NumPy\n",
    "3. Matpltolib\n",
    "4. Seaborn\n",
    "5. Scikit-learn\n",
    "6. Keras\n",
    "8. Pytorch\n",
    "9. ggplot2\n",
    "   "
   ]
  },
  {
   "cell_type": "markdown",
   "id": "74c1caf1-a61a-4dd5-a320-aad2e3a0ac93",
   "metadata": {},
   "source": [
    "| Data Science Tools | \n",
    "|---------|\n",
    "| Jupyter Notebook | \n",
    "| R Studio |\n",
    "| Apache Zeppelin |"
   ]
  },
  {
   "cell_type": "markdown",
   "id": "e0d33214-6fe7-4254-9ff7-c67d65a0a56d",
   "metadata": {},
   "source": [
    "### Below are a few examples of evaluating arithmetic expressions in Python"
   ]
  },
  {
   "cell_type": "code",
   "execution_count": 9,
   "id": "4fd6c3c9-ae98-4eb4-a3c3-449367df63b7",
   "metadata": {},
   "outputs": [],
   "source": [
    "# This a simple arithmetic expression to mutiply then add integers"
   ]
  },
  {
   "cell_type": "code",
   "execution_count": 10,
   "id": "1daf8418-6b0f-4a5e-bd79-74cd519cf233",
   "metadata": {},
   "outputs": [
    {
     "data": {
      "text/plain": [
       "17"
      ]
     },
     "execution_count": 10,
     "metadata": {},
     "output_type": "execute_result"
    }
   ],
   "source": [
    "(3*4)+5"
   ]
  },
  {
   "cell_type": "code",
   "execution_count": 11,
   "id": "7f69478a-c32d-4b1f-ad41-c06852180003",
   "metadata": {},
   "outputs": [],
   "source": [
    "# This will convert 200 minutes to hours by diving by 60"
   ]
  },
  {
   "cell_type": "code",
   "execution_count": 12,
   "id": "f82d4db0-3974-4343-8492-e69ffe2d89d6",
   "metadata": {},
   "outputs": [
    {
     "data": {
      "text/plain": [
       "3.3333333333333335"
      ]
     },
     "execution_count": 12,
     "metadata": {},
     "output_type": "execute_result"
    }
   ],
   "source": [
    "200/60"
   ]
  },
  {
   "cell_type": "markdown",
   "id": "e8094deb-e8ed-4b9e-8e8d-fec6a73a06fe",
   "metadata": {},
   "source": [
    "## Author"
   ]
  },
  {
   "cell_type": "markdown",
   "id": "bdf7e9f0-d483-4d6f-92c9-35855e5c138e",
   "metadata": {},
   "source": [
    "Yiannis Markou"
   ]
  },
  {
   "cell_type": "code",
   "execution_count": null,
   "id": "b1eb9b12-6a70-4938-b17f-3f61f8d8069b",
   "metadata": {},
   "outputs": [],
   "source": []
  }
 ],
 "metadata": {
  "kernelspec": {
   "display_name": "Python 3 (ipykernel)",
   "language": "python",
   "name": "python3"
  },
  "language_info": {
   "codemirror_mode": {
    "name": "ipython",
    "version": 3
   },
   "file_extension": ".py",
   "mimetype": "text/x-python",
   "name": "python",
   "nbconvert_exporter": "python",
   "pygments_lexer": "ipython3",
   "version": "3.11.7"
  }
 },
 "nbformat": 4,
 "nbformat_minor": 5
}
